{
 "cells": [
  {
   "cell_type": "markdown",
   "id": "128da65e",
   "metadata": {},
   "source": [
    "# <center> Double Pendulum in Cart </center>\n",
    "## <center> Approximations and Animation </center> \n",
    "In[10] and [12] corrected"
   ]
  },
  {
   "cell_type": "markdown",
   "id": "6f314842",
   "metadata": {},
   "source": [
    "Import necessary packages"
   ]
  },
  {
   "cell_type": "code",
   "execution_count": 1,
   "id": "c75c24bc",
   "metadata": {},
   "outputs": [],
   "source": [
    "import numpy as np\n",
    "import sympy as smp\n",
    "from sympy.solvers.solveset import linsolve\n",
    "from scipy.integrate import odeint\n",
    "import matplotlib.pyplot as plt\n",
    "from matplotlib import animation\n",
    "from matplotlib.patches import Rectangle\n",
    "from matplotlib.patches import Circle\n",
    "from mpl_toolkits.mplot3d import Axes3D\n",
    "from matplotlib.animation import PillowWriter\n",
    "import time"
   ]
  },
  {
   "cell_type": "markdown",
   "id": "a0c9868a",
   "metadata": {},
   "source": [
    "Defining corresponding symbols for each variable:\n",
    "Note that an extra mass is included (m0, the mass of cart)"
   ]
  },
  {
   "cell_type": "code",
   "execution_count": 2,
   "id": "261f3df0",
   "metadata": {},
   "outputs": [],
   "source": [
    "t, g = smp.symbols('t g')\n",
    "m0, m1, m2, M = smp.symbols('m0 m1 m2 M')\n",
    "l1, l2, L1, L2 = smp.symbols('l1, l2, L1, L2')\n",
    "I1, I2 = smp.symbols('I1 I2')\n",
    "u = smp.symbols('u')         # controller force"
   ]
  },
  {
   "cell_type": "code",
   "execution_count": 3,
   "id": "d47b1b11",
   "metadata": {},
   "outputs": [],
   "source": [
    "the0, the1, the2 = smp.symbols(r'\\theta_0, \\theta_1, \\theta_2', cls=smp.Function)"
   ]
  },
  {
   "cell_type": "code",
   "execution_count": 4,
   "id": "a0eddc64",
   "metadata": {},
   "outputs": [],
   "source": [
    "the0 = the0(t)\n",
    "the1 = the1(t)\n",
    "the2 = the2(t)"
   ]
  },
  {
   "cell_type": "markdown",
   "id": "74e49062",
   "metadata": {},
   "source": [
    "Derivatives:"
   ]
  },
  {
   "cell_type": "code",
   "execution_count": 5,
   "id": "32bf961c",
   "metadata": {},
   "outputs": [],
   "source": [
    "the0_d = smp.diff(the0, t)\n",
    "the1_d = smp.diff(the1, t)\n",
    "the2_d = smp.diff(the2, t)\n",
    "the0_dd = smp.diff(the0_d, t)\n",
    "the1_dd = smp.diff(the1_d, t)\n",
    "the2_dd = smp.diff(the2_d, t)"
   ]
  },
  {
   "cell_type": "code",
   "execution_count": 6,
   "id": "3d917901",
   "metadata": {
    "scrolled": true
   },
   "outputs": [],
   "source": [
    "a, b, c, d, e, f, G, h, i, j, k, l = smp.symbols('a, b, c, d, e, f, G, h, i, j, k, l')\n",
    "\n",
    "LE0 = a*the0_dd + b*the1_dd + c*the2_dd + d\n",
    "LE1 = e*the0_dd + f*the1_dd + G*the2_dd + h\n",
    "LE2 = i*the0_dd + j*the1_dd + k*the2_dd + l\n",
    "sols = smp.solve([LE0,LE1, LE2],(the0_dd, the1_dd, the2_dd))"
   ]
  },
  {
   "cell_type": "markdown",
   "id": "8b3082dc",
   "metadata": {},
   "source": [
    "This assumes that the center of mass of the rods is at the middle of their length:"
   ]
  },
  {
   "cell_type": "code",
   "execution_count": 7,
   "id": "4a92dd98",
   "metadata": {},
   "outputs": [],
   "source": [
    "l1 = L1/2\n",
    "l2 = L2/2\n",
    "I1 = m1*L1**2/12\n",
    "I2 = m2*L2**2/12"
   ]
  },
  {
   "cell_type": "code",
   "execution_count": 8,
   "id": "1d738cc9",
   "metadata": {},
   "outputs": [],
   "source": [
    "a = m0 + m1 + m2\n",
    "b = (m1*l1 + m2*L1)*smp.cos(the1)\n",
    "c = m2*l2*smp.cos(the2)\n",
    "d = -(m1*l1 + m2*L1)*smp.sin(the1)*the1_d**2 - m2*l2*smp.sin(the2)*the2_d**2 - u\n",
    "\n",
    "e = (m1*l1 + m2*L1)*smp.cos(the1)\n",
    "f = m1*l1**2 + m2*L1**2 + I1\n",
    "G = m2*L1*l2*smp.cos(the1-the2)\n",
    "h = m2*L1*l2*smp.sin(the1-the2)*the2_d**2 - (m1*l1 + m2*L1)*g*smp.sin(the1)\n",
    "\n",
    "i = m2*l2*smp.cos(the2)\n",
    "j = m2*L1*l2*smp.cos(the1-the2)\n",
    "k = m2*l2**2 + I2\n",
    "l = -m2*L1*l2*smp.sin(the1-the2)*the1_d**2 - m2*g*l2*smp.sin(the2)"
   ]
  },
  {
   "cell_type": "markdown",
   "id": "78bb84e1",
   "metadata": {},
   "source": [
    "It is necessary to evaluate the values $(a,b,c,\\cdots,k,l)$ in the $\\ddot{\\theta}_i$ equations."
   ]
  },
  {
   "cell_type": "code",
   "execution_count": 9,
   "id": "e35ad113",
   "metadata": {},
   "outputs": [],
   "source": [
    "sol_the0dd = eval(str(sols[the0_dd]))\n",
    "sol_the1dd = eval(str(sols[the1_dd]))\n",
    "sol_the2dd = eval(str(sols[the2_dd]))"
   ]
  },
  {
   "cell_type": "markdown",
   "id": "7b566cad",
   "metadata": {},
   "source": [
    "The \"**odeint**\" solver requires that the maximum order of the differential equation is 1. \n",
    "\n",
    "Hence, we define the following as functions that take inputs:"
   ]
  },
  {
   "cell_type": "markdown",
   "id": "073b4c9c",
   "metadata": {},
   "source": [
    "<center> $z_i=\\dot{\\theta_i}$ </center>\n",
    "\n",
    "<center> $\\dot{z_i}=\\ddot{\\theta_i}$ </center>"
   ]
  },
  {
   "cell_type": "code",
   "execution_count": 10,
   "id": "d7133f27",
   "metadata": {},
   "outputs": [],
   "source": [
    "# Here, note that lambdify converts symbolic expressions into numerical functions.\n",
    "\n",
    "dz0dt_f = smp.lambdify((t,u,g,m0,m1,m2,L1,L2,the0,the1,the2,the0_d,the1_d,the2_d), sol_the0dd)\n",
    "dz1dt_f = smp.lambdify((t,u,g,m0,m1,m2,L1,L2,the0,the1,the2,the0_d,the1_d,the2_d), sol_the1dd)\n",
    "dz2dt_f = smp.lambdify((t,u,g,m0,m1,m2,L1,L2,the0,the1,the2,the0_d,the1_d,the2_d), sol_the2dd)\n",
    "dthe0dt_f = smp.lambdify(the0_d, the0_d)\n",
    "dthe1dt_f = smp.lambdify(the1_d, the1_d)\n",
    "dthe2dt_f = smp.lambdify(the2_d, the2_d)"
   ]
  },
  {
   "cell_type": "code",
   "execution_count": 14,
   "id": "e8224a3a",
   "metadata": {
    "scrolled": true
   },
   "outputs": [
    {
     "data": {
      "text/plain": [
       "61.64265303675481"
      ]
     },
     "execution_count": 14,
     "metadata": {},
     "output_type": "execute_result"
    }
   ],
   "source": [
    "dz2dt_f(10, -4, 9.81, 1, 1, 1, 0.2, 0.2, 0, -0.6, 0.6, 0.2, 0, 0)"
   ]
  },
  {
   "cell_type": "markdown",
   "id": "277864e9",
   "metadata": {},
   "source": [
    "Moreover, the \"**odeint**\" solver also requires that we compress the initial conditions $(\\theta_i,z_i)$, as well as those for the properties of the pendulum and cart, into a single quantity $\\vec{S}$. This enables the solver to compute $\\frac{d\\vec{S}}{dt}$"
   ]
  },
  {
   "cell_type": "code",
   "execution_count": 15,
   "id": "e0fa99c5",
   "metadata": {},
   "outputs": [],
   "source": [
    "def dSdt(S, t, u, g, m0, m1, m2, L1, L2):\n",
    "    the0, z0, the1, z1, the2, z2 = S\n",
    "    return [\n",
    "        dthe0dt_f(z0),\n",
    "        dz0dt_f(t, u, g, m0, m1, m2, L1, L2, the0, the1, the2, z0, z1, z2),\n",
    "        dthe1dt_f(z1),\n",
    "        dz1dt_f(t, u, g, m0, m1, m2, L1, L2, the0, the1, the2, z0, z1, z2),\n",
    "        dthe2dt_f(z2),\n",
    "        dz2dt_f(t, u, g, m0, m1, m2, L1, L2, the0, the1, the2, z0, z1, z2),\n",
    "    ]"
   ]
  },
  {
   "cell_type": "markdown",
   "id": "c3df7aa3",
   "metadata": {},
   "source": [
    "Now defining initial conditions:  "
   ]
  },
  {
   "cell_type": "code",
   "execution_count": 16,
   "id": "8a301797",
   "metadata": {},
   "outputs": [],
   "source": [
    "t = np.linspace(0, 40, 1001)  # 1000/40 = 25 calculations per second\n",
    "g = 9.81 #m/s^2\n",
    "m0 = 2.1 #kg\n",
    "m1= 0.7 #kg\n",
    "m2= 0.7 #kg\n",
    "L1 = 0.8 #m\n",
    "L2 = 0.8 #m"
   ]
  },
  {
   "cell_type": "markdown",
   "id": "2ca2d4cc",
   "metadata": {},
   "source": [
    "Using the \"**odeint**\" solver:"
   ]
  },
  {
   "cell_type": "markdown",
   "id": "4680e937",
   "metadata": {},
   "source": [
    "Here, $y_0$ $=$ [$\\theta_0$, $\\dot{\\theta_0}$, $\\theta_1$, $\\dot{\\theta_1}$, $\\theta_2$, $\\dot{\\theta_2}$]:"
   ]
  },
  {
   "cell_type": "code",
   "execution_count": 80,
   "id": "35978b2a",
   "metadata": {},
   "outputs": [],
   "source": [
    "u = 0.25  # Control force (F = m_cart*a)\n",
    "ans = odeint(dSdt, y0=[0, -0, np.pi/5, 0, -np.pi/4, 0], \n",
    "             t=t, args=(u, g, m0, m1, m2, L1, L2))\n",
    "the0 = ans.T[0]\n",
    "the1 = ans.T[2]\n",
    "the2 = ans.T[4]"
   ]
  },
  {
   "cell_type": "code",
   "execution_count": 81,
   "id": "879253bd",
   "metadata": {},
   "outputs": [
    {
     "data": {
      "text/plain": [
       "Text(0, 0.5, '$\\\\theta_i$ (rad) for $i>0$, $(m)$ otherwise')"
      ]
     },
     "execution_count": 81,
     "metadata": {},
     "output_type": "execute_result"
    },
    {
     "data": {
      "image/png": "[encoded data removed]",
      "text/plain": [
       "<Figure size 640x480 with 1 Axes>"
      ]
     },
     "metadata": {},
     "output_type": "display_data"
    }
   ],
   "source": [
    "plt.plot(t, the0, label='$\\\\theta_0$')\n",
    "plt.plot(t, the1, label='$\\\\theta_1$')\n",
    "plt.plot(t, the2, label='$\\\\theta_2$')\n",
    "plt.legend()\n",
    "plt.xlabel('Time (sec)')\n",
    "plt.ylabel('$\\\\theta_i$ (rad) for $i>0$, $(m)$ otherwise')"
   ]
  },
  {
   "cell_type": "markdown",
   "id": "624e41a4",
   "metadata": {},
   "source": [
    "Each row in the \"**ans**\" matrix yields the $(\\theta_0,\\dot{\\theta_0},\\theta_1,\\dot{\\theta_1},\\theta_2,\\dot{\\theta_2})$ state at time $t$"
   ]
  },
  {
   "cell_type": "code",
   "execution_count": 71,
   "id": "3a2870aa",
   "metadata": {
    "scrolled": false
   },
   "outputs": [
    {
     "data": {
      "text/plain": [
       "array([[ 0.00000000e+00,  0.00000000e+00,  6.28318531e-01,\n",
       "         0.00000000e+00, -7.85398163e-01,  0.00000000e+00],\n",
       "       [-9.10715866e-04, -4.53950865e-02,  6.36473333e-01,\n",
       "         4.06585956e-01, -7.96459147e-01, -5.50474958e-01],\n",
       "       [-3.60991266e-03, -8.91762530e-02,  6.60670452e-01,\n",
       "         8.00208681e-01, -8.29036056e-01, -1.07113202e+00],\n",
       "       ...,\n",
       "       [ 4.54656538e+01,  1.55289420e+00, -5.93347482e+00,\n",
       "         3.30567021e+00, -5.44286307e+01,  4.09237737e-01],\n",
       "       [ 4.55276945e+01,  1.54998070e+00, -5.79685625e+00,\n",
       "         3.53459449e+00, -5.44122992e+01,  3.84807142e-01],\n",
       "       [ 4.55897597e+01,  1.55519045e+00, -5.64992995e+00,\n",
       "         3.82210670e+00, -5.43999275e+01,  2.04112252e-01]])"
      ]
     },
     "execution_count": 71,
     "metadata": {},
     "output_type": "execute_result"
    }
   ],
   "source": [
    "ans"
   ]
  },
  {
   "cell_type": "markdown",
   "id": "51653ed1",
   "metadata": {},
   "source": [
    "Upon **transposing**, we obtain a matrix of 6 rows corresponding to the values of each variable mentioned above."
   ]
  },
  {
   "cell_type": "code",
   "execution_count": 72,
   "id": "e5bb29f7",
   "metadata": {},
   "outputs": [
    {
     "data": {
      "text/plain": [
       "array([[ 0.00000000e+00, -9.10715866e-04, -3.60991266e-03, ...,\n",
       "         4.54656538e+01,  4.55276945e+01,  4.55897597e+01],\n",
       "       [ 0.00000000e+00, -4.53950865e-02, -8.91762530e-02, ...,\n",
       "         1.55289420e+00,  1.54998070e+00,  1.55519045e+00],\n",
       "       [ 6.28318531e-01,  6.36473333e-01,  6.60670452e-01, ...,\n",
       "        -5.93347482e+00, -5.79685625e+00, -5.64992995e+00],\n",
       "       [ 0.00000000e+00,  4.06585956e-01,  8.00208681e-01, ...,\n",
       "         3.30567021e+00,  3.53459449e+00,  3.82210670e+00],\n",
       "       [-7.85398163e-01, -7.96459147e-01, -8.29036056e-01, ...,\n",
       "        -5.44286307e+01, -5.44122992e+01, -5.43999275e+01],\n",
       "       [ 0.00000000e+00, -5.50474958e-01, -1.07113202e+00, ...,\n",
       "         4.09237737e-01,  3.84807142e-01,  2.04112252e-01]])"
      ]
     },
     "execution_count": 72,
     "metadata": {},
     "output_type": "execute_result"
    }
   ],
   "source": [
    "ans.T"
   ]
  },
  {
   "cell_type": "markdown",
   "id": "eefd3a04",
   "metadata": {},
   "source": [
    "Having the above data, it is possible to track the location of the pendulums using what we used in **In [18]**"
   ]
  },
  {
   "cell_type": "code",
   "execution_count": 82,
   "id": "98729ed7",
   "metadata": {},
   "outputs": [],
   "source": [
    "Lsum = L1 + L2\n",
    "Lmax = Lsum + 0.1\n",
    "Lmin = -Lmax\n",
    "the0_min = min(the0)-Lsum\n",
    "the0_max = max(the0)+Lsum\n",
    "\n",
    "cartX = 0.2\n",
    "cartY = 0.1\n",
    "wheelR = 0.03\n",
    "\n",
    "def xy_coords(t, the0, the1, the2, L1, L2):\n",
    "    return (the0,\n",
    "            0*the0,\n",
    "            the0 + L1*np.sin(the1),\n",
    "            L1*np.cos(the1),\n",
    "            the0 + L1*np.sin(the1) + L2*np.sin(the2),\n",
    "            L1*np.cos(the1) + L2*np.cos(the2))\n",
    "\n",
    "x0, y0, x1, y1, x2, y2 = xy_coords(t, ans.T[0], ans.T[2], ans.T[4], L1, L2)"
   ]
  },
  {
   "cell_type": "markdown",
   "id": "e194e3fb",
   "metadata": {},
   "source": [
    "## Animating: RUN THE DEFINITION ABOVE BEFORE ANIMATING! "
   ]
  },
  {
   "cell_type": "code",
   "execution_count": 83,
   "id": "af9e347e",
   "metadata": {},
   "outputs": [],
   "source": [
    "xy_corners = np.stack((x0 - cartX/2, y0 - cartY/2), axis=-1)                  # xy coordinates of bottom-left corner of cart\n",
    "leftW_centers = np.stack((x0 - cartX/4, y0 - (cartY/2 + wheelR)), axis=-1)    # xy coordinates of left wheel of cart\n",
    "rightW_centers = np.stack((x0 + cartX/4, y0 - (cartY/2 + wheelR)), axis=-1)   # xy coordinates of right wheel of cart"
   ]
  },
  {
   "cell_type": "code",
   "execution_count": 84,
   "id": "a7d47c3e",
   "metadata": {},
   "outputs": [
    {
     "data": {
      "text/plain": [
       "[<matplotlib.lines.Line2D at 0x1ba805a4ee0>]"
      ]
     },
     "execution_count": 84,
     "metadata": {},
     "output_type": "execute_result"
    },
    {
     "data": {
      "image/png": "[encoded data removed]",
      "text/plain": [
       "<Figure size 1666.86x340 with 1 Axes>"
      ]
     },
     "metadata": {},
     "output_type": "display_data"
    }
   ],
   "source": [
    "patch = Rectangle(xy_corners[0], cartX, cartY,    # Cart drawing\n",
    "              edgecolor = 'k',\n",
    "              facecolor = 'silver',\n",
    "              fill=True,\n",
    "              lw=1)\n",
    "patchW1 = Circle(leftW_centers[0], wheelR,        # Left wheel drawing\n",
    "              edgecolor = 'k',\n",
    "              facecolor = 'dimgrey',\n",
    "              fill=True,\n",
    "              lw=1)\n",
    "patchW2 = Circle(rightW_centers[0], wheelR,       # Right wheel drawing\n",
    "              edgecolor = 'k',\n",
    "              facecolor = 'dimgrey',\n",
    "              fill=True,\n",
    "              lw=1)\n",
    "\n",
    "def init():\n",
    "    return (patch, patchW1, patchW2),\n",
    "\n",
    "def animate(i):\n",
    "    ln1.set_data([x0[i], x1[i], x2[i]], [y0[i], y1[i], y2[i]])\n",
    "    patch.set_xy(xy_corners[i])\n",
    "    patchW1.set_center(leftW_centers[i])\n",
    "    patchW2.set_center(rightW_centers[i])\n",
    "    ax.add_patch(patch)\n",
    "    ax.add_patch(patchW1)\n",
    "    ax.add_patch(patchW2)\n",
    "\n",
    "fig, ax = plt.subplots(1,1, figsize=(15-the0_min,2*Lmax))\n",
    "# fig, ax = plt.subplots(1,1, figsize=(the0_max-the0_min,2*Lmax))\n",
    "ax.set_facecolor('lightyellow')\n",
    "\n",
    "ln1, = plt.plot([], [], 'ko-', lw=1, markersize=2)\n",
    "ax.set_ylim(Lmin,Lmax)\n",
    "# ax.set_xlim(the0_min,the0_max)\n",
    "ax.set_xlim(the0_min,15)\n",
    "\n",
    "\n",
    "patches = [patch, patchW1, patchW2] \n",
    "for p in patches:\n",
    "    ax.add_patch(p)\n",
    "\n",
    "# Drawing the Cart's \"track\"\n",
    "ax.plot([the0_min,the0_max],[-(cartY/2+2*wheelR),-(cartY/2+2*wheelR)],'k-',lw=1)  \n",
    "# from min to max           # vertical coordinates given that center of cart is at (0,0)"
   ]
  },
  {
   "cell_type": "code",
   "execution_count": 85,
   "id": "a3f35886",
   "metadata": {},
   "outputs": [
    {
     "name": "stdout",
     "output_type": "stream",
     "text": [
      "--- 1094.881573677063 seconds ---\n"
     ]
    }
   ],
   "source": [
    "start_time = time.time()\n",
    "ani = animation.FuncAnimation(fig, animate, frames=1000, interval=750)\n",
    "ani.save('cart_u0_25c_pi5_negpi4_FIXED.gif',writer='pillow',fps=21)\n",
    "\n",
    "print(\"--- %s seconds ---\" % (time.time() - start_time))"
   ]
  },
  {
   "cell_type": "code",
   "execution_count": null,
   "id": "a5d8d77d",
   "metadata": {},
   "outputs": [],
   "source": []
  }
 ],
 "metadata": {
  "kernelspec": {
   "display_name": "Python 3 (ipykernel)",
   "language": "python",
   "name": "python3"
  },
  "language_info": {
   "codemirror_mode": {
    "name": "ipython",
    "version": 3
   },
   "file_extension": ".py",
   "mimetype": "text/x-python",
   "name": "python",
   "nbconvert_exporter": "python",
   "pygments_lexer": "ipython3",
   "version": "3.9.13"
  }
 },
 "nbformat": 4,
 "nbformat_minor": 5
}
