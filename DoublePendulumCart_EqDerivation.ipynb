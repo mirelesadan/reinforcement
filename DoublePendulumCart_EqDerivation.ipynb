{
 "cells": [
  {
   "cell_type": "markdown",
   "id": "128da65e",
   "metadata": {},
   "source": [
    "# <center> Double Pendulum in Cart </center>\n",
    "## <center> Lagrangian Equation Derivation </center> "
   ]
  },
  {
   "cell_type": "markdown",
   "id": "6f314842",
   "metadata": {},
   "source": [
    "Import necessary packages"
   ]
  },
  {
   "cell_type": "code",
   "execution_count": 1,
   "id": "c75c24bc",
   "metadata": {},
   "outputs": [],
   "source": [
    "import numpy as np\n",
    "import sympy as smp\n",
    "from sympy.solvers.solveset import linsolve\n",
    "from scipy.integrate import odeint\n",
    "import matplotlib.pyplot as plt\n",
    "from matplotlib import animation\n",
    "from mpl_toolkits.mplot3d import Axes3D\n",
    "from matplotlib.animation import PillowWriter"
   ]
  },
  {
   "cell_type": "markdown",
   "id": "a0c9868a",
   "metadata": {},
   "source": [
    "Defining corresponding symbols for each variable:\n",
    "Note that an extra mass is included (m0, the mass of cart)"
   ]
  },
  {
   "cell_type": "code",
   "execution_count": 7,
   "id": "261f3df0",
   "metadata": {},
   "outputs": [],
   "source": [
    "t, g = smp.symbols('t g')\n",
    "m0, m1, m2, M = smp.symbols('m0 m1 m2 M')\n",
    "L1, L2 = smp.symbols('L1, L2')"
   ]
  },
  {
   "cell_type": "code",
   "execution_count": 8,
   "id": "d47b1b11",
   "metadata": {},
   "outputs": [],
   "source": [
    "the0, the1, the2 = smp.symbols(r'\\theta_0, \\theta_1, \\theta_2', cls=smp.Function)"
   ]
  },
  {
   "cell_type": "code",
   "execution_count": 9,
   "id": "a0eddc64",
   "metadata": {},
   "outputs": [],
   "source": [
    "the0 = the0(t)\n",
    "the1 = the1(t)\n",
    "the2 = the2(t)"
   ]
  },
  {
   "cell_type": "markdown",
   "id": "74e49062",
   "metadata": {},
   "source": [
    "Derivatives:"
   ]
  },
  {
   "cell_type": "code",
   "execution_count": 10,
   "id": "32bf961c",
   "metadata": {},
   "outputs": [],
   "source": [
    "the0_d = smp.diff(the0, t)\n",
    "the1_d = smp.diff(the1, t)\n",
    "the2_d = smp.diff(the2, t)\n",
    "the0_dd = smp.diff(the0_d, t)\n",
    "the1_dd = smp.diff(the1_d, t)\n",
    "the2_dd = smp.diff(the2_d, t)"
   ]
  },
  {
   "cell_type": "raw",
   "id": "88ae6a03",
   "metadata": {},
   "source": [
    "Cartesian coordinates $x_i, y_i$"
   ]
  },
  {
   "cell_type": "raw",
   "id": "45c9dd30",
   "metadata": {},
   "source": [
    "x0 = the0\n",
    "y0 = 0\n",
    "x1 = L1*smp.sin(the1)\n",
    "y1 = -L1*smp.cos(the1)\n",
    "x2 = L1*smp.sin(the1)+L2*smp.sin(the2)\n",
    "y2 = -L1*smp.cos(the1)-L2*smp.cos(the2)"
   ]
  },
  {
   "cell_type": "markdown",
   "id": "ede1bb12",
   "metadata": {},
   "source": [
    "* Define Kinetic Energy $T_i$ for each arm\n",
    "* Define Total Kinetic Energy $T$"
   ]
  },
  {
   "cell_type": "code",
   "execution_count": 11,
   "id": "26397c01",
   "metadata": {},
   "outputs": [],
   "source": [
    "I1 = m1*L1**2/12\n",
    "I2 = m2*L2**2/12\n",
    "M=m0+m1+m2"
   ]
  },
  {
   "cell_type": "raw",
   "id": "53979cde",
   "metadata": {},
   "source": [
    "T0 = 1/2*m0*smp.diff(the0, t)**2\n",
    "T1 = 1/2*m1*smp.diff(the0, t)**2 + 1/2*(m1*L1**2 + I1)*smp.diff(the1, t)**2 + m1*L1/2*smp.diff(the0, t)*smp.diff(the1, t)*smp.cos(the1)\n",
    "T2 = 1/2*m2*smp.diff(the0, t)**2 + 1/2*m2*L1**2*smp.diff(the1, t)**2 + 1/2*(m2*(L2/2)**2+I2)*smp.diff(the2, t)**2 + m2*L1*smp.diff(the0, t)*smp.diff(the1, t)*smp.cos(the1) + m2*(L2/2)*smp.diff(the0, t)*smp.diff(the2, t)*smp.cos(the2)+m2*L1*(L2/2)*smp.diff(the1, t)*smp.diff(the2, t)*smp.cos(the1-the2)\n",
    "T = T0+T1+T2\n",
    "\n",
    "T = 1/2*M*smp.diff(the0, t)**2 + 1/2*(m1*L1**2 + I1)*smp.diff(the1, t)**2 + m1*L1/2*smp.diff(the0, t)*smp.diff(the1, t)*smp.cos(the1) + 1/2*m2*L1**2*smp.diff(the1, t)**2 + 1/2*(m2*(L2/2)**2+I2)*smp.diff(the2, t)**2 + m2*L1*smp.diff(the0, t)*smp.diff(the1, t)*smp.cos(the1) + m2*(L2/2)*smp.diff(the0, t)*smp.diff(the2, t)*smp.cos(the2)+m2*L1*(L2/2)*smp.diff(the1, t)*smp.diff(the2, t)*smp.cos(the1-the2)"
   ]
  },
  {
   "cell_type": "code",
   "execution_count": 12,
   "id": "54801556",
   "metadata": {},
   "outputs": [],
   "source": [
    "T0 = 1/2*m0*smp.diff(the0, t)**2\n",
    "T1 = 1/2*m1*(  (smp.diff(the0, t) + L1/2*smp.diff(the1, t)*smp.cos(the1))**2  +  (L1/2*smp.diff(the1, t)*smp.sin(the1))**2  )  + 1/2*I1*(smp.diff(the1, t))**2\n",
    "T2 = 1/2*m2*smp.diff(the0, t)**2 + 1/2*m2*L1**2*(smp.diff(the1, t))**2 + 1/2*(m2*(L2/2)**2+I2)*(smp.diff(the2, t))**2 + m2*L1*smp.diff(the0, t)*smp.diff(the1, t)*smp.cos(the1) + m2*(L2/2)*smp.diff(the0, t)*smp.diff(the2, t)*smp.cos(the2)+m2*L1*(L2/2)*smp.diff(the1, t)*smp.diff(the2, t)*smp.cos(the1-the2)\n",
    "T = T0+T1+T2\n",
    "\n",
    "# T = 1/2*M*smp.diff(the0, t)**2 + 1/2*(m1*L1**2 + I1)*smp.diff(the1, t)**2 + m1*L1/2*smp.diff(the0, t)*smp.diff(the1, t)*smp.cos(the1) + 1/2*m2*L1**2*smp.diff(the1, t)**2 + 1/2*(m2*(L2/2)**2+I2)*smp.diff(the2, t)**2 + m2*L1*smp.diff(the0, t)*smp.diff(the1, t)*smp.cos(the1) + m2*(L2/2)*smp.diff(the0, t)*smp.diff(the2, t)*smp.cos(the2)+m2*L1*(L2/2)*smp.diff(the1, t)*smp.diff(the2, t)*smp.cos(the1-the2)"
   ]
  },
  {
   "cell_type": "markdown",
   "id": "fd58ade5",
   "metadata": {},
   "source": [
    "* Define Potential Energy $U_i$ for each arm\n",
    "* Define Total Kinetic Energy $U$"
   ]
  },
  {
   "cell_type": "code",
   "execution_count": 13,
   "id": "f9914f4e",
   "metadata": {},
   "outputs": [],
   "source": [
    "U0 = 0\n",
    "U1 = m1*g*(L1/2)*smp.cos(the1)\n",
    "U2 = m2*g*(L1*smp.cos(the1)+(L2/2)*smp.cos(the2))\n",
    "U = U0 + U1 + U2"
   ]
  },
  {
   "cell_type": "markdown",
   "id": "7a25795b",
   "metadata": {},
   "source": [
    "Define **Lagrangian** $L$"
   ]
  },
  {
   "cell_type": "code",
   "execution_count": 14,
   "id": "7ca8bc8b",
   "metadata": {},
   "outputs": [],
   "source": [
    "L = T - U"
   ]
  },
  {
   "cell_type": "code",
   "execution_count": 15,
   "id": "b1b01da2",
   "metadata": {},
   "outputs": [
    {
     "data": {
      "text/latex": [
       "$\\displaystyle 0.0416666666666667 L_{1}^{2} m_{1} \\left(\\frac{d}{d t} \\theta_{1}{\\left(t \\right)}\\right)^{2} + 0.5 L_{1}^{2} m_{2} \\left(\\frac{d}{d t} \\theta_{1}{\\left(t \\right)}\\right)^{2} + \\frac{L_{1} L_{2} m_{2} \\cos{\\left(\\theta_{1}{\\left(t \\right)} - \\theta_{2}{\\left(t \\right)} \\right)} \\frac{d}{d t} \\theta_{1}{\\left(t \\right)} \\frac{d}{d t} \\theta_{2}{\\left(t \\right)}}{2} - \\frac{L_{1} g m_{1} \\cos{\\left(\\theta_{1}{\\left(t \\right)} \\right)}}{2} + L_{1} m_{2} \\cos{\\left(\\theta_{1}{\\left(t \\right)} \\right)} \\frac{d}{d t} \\theta_{0}{\\left(t \\right)} \\frac{d}{d t} \\theta_{1}{\\left(t \\right)} + 0.166666666666667 L_{2}^{2} m_{2} \\left(\\frac{d}{d t} \\theta_{2}{\\left(t \\right)}\\right)^{2} + \\frac{L_{2} m_{2} \\cos{\\left(\\theta_{2}{\\left(t \\right)} \\right)} \\frac{d}{d t} \\theta_{0}{\\left(t \\right)} \\frac{d}{d t} \\theta_{2}{\\left(t \\right)}}{2} - g m_{2} \\left(L_{1} \\cos{\\left(\\theta_{1}{\\left(t \\right)} \\right)} + \\frac{L_{2} \\cos{\\left(\\theta_{2}{\\left(t \\right)} \\right)}}{2}\\right) + 0.5 m_{0} \\left(\\frac{d}{d t} \\theta_{0}{\\left(t \\right)}\\right)^{2} + 0.5 m_{1} \\left(\\frac{L_{1}^{2} \\sin^{2}{\\left(\\theta_{1}{\\left(t \\right)} \\right)} \\left(\\frac{d}{d t} \\theta_{1}{\\left(t \\right)}\\right)^{2}}{4} + \\left(\\frac{L_{1} \\cos{\\left(\\theta_{1}{\\left(t \\right)} \\right)} \\frac{d}{d t} \\theta_{1}{\\left(t \\right)}}{2} + \\frac{d}{d t} \\theta_{0}{\\left(t \\right)}\\right)^{2}\\right) + 0.5 m_{2} \\left(\\frac{d}{d t} \\theta_{0}{\\left(t \\right)}\\right)^{2}$"
      ],
      "text/plain": [
       "0.0416666666666667*L1**2*m1*Derivative(\\theta_1(t), t)**2 + 0.5*L1**2*m2*Derivative(\\theta_1(t), t)**2 + L1*L2*m2*cos(\\theta_1(t) - \\theta_2(t))*Derivative(\\theta_1(t), t)*Derivative(\\theta_2(t), t)/2 - L1*g*m1*cos(\\theta_1(t))/2 + L1*m2*cos(\\theta_1(t))*Derivative(\\theta_0(t), t)*Derivative(\\theta_1(t), t) + 0.166666666666667*L2**2*m2*Derivative(\\theta_2(t), t)**2 + L2*m2*cos(\\theta_2(t))*Derivative(\\theta_0(t), t)*Derivative(\\theta_2(t), t)/2 - g*m2*(L1*cos(\\theta_1(t)) + L2*cos(\\theta_2(t))/2) + 0.5*m0*Derivative(\\theta_0(t), t)**2 + 0.5*m1*(L1**2*sin(\\theta_1(t))**2*Derivative(\\theta_1(t), t)**2/4 + (L1*cos(\\theta_1(t))*Derivative(\\theta_1(t), t)/2 + Derivative(\\theta_0(t), t))**2) + 0.5*m2*Derivative(\\theta_0(t), t)**2"
      ]
     },
     "execution_count": 15,
     "metadata": {},
     "output_type": "execute_result"
    }
   ],
   "source": [
    "L"
   ]
  },
  {
   "cell_type": "markdown",
   "id": "b7948ab5",
   "metadata": {},
   "source": [
    "## The Euler-Lagrange Equations is:"
   ]
  },
  {
   "attachments": {
    "image.png": {
     "image/png": "[encoded data removed]"
    }
   },
   "cell_type": "markdown",
   "id": "816fd9e5",
   "metadata": {},
   "source": [
    "![image.png](attachment:image.png)"
   ]
  },
  {
   "cell_type": "markdown",
   "id": "72a64ced",
   "metadata": {},
   "source": [
    "<center> In this case, $f = L$ and $y = \\theta$ </center>"
   ]
  },
  {
   "cell_type": "markdown",
   "id": "5206909d",
   "metadata": {},
   "source": [
    "Note that LE0 must late rinclude the controller force $u(t)$."
   ]
  },
  {
   "cell_type": "code",
   "execution_count": 17,
   "id": "9f426eb0",
   "metadata": {},
   "outputs": [],
   "source": [
    "LE0 = smp.diff(L, the0) - smp.diff(smp.diff(L, the0_d), t).simplify()\n",
    "LE1 = smp.diff(L, the1) - smp.diff(smp.diff(L, the1_d), t).simplify()\n",
    "LE2 = smp.diff(L, the2) - smp.diff(smp.diff(L, the2_d), t).simplify()"
   ]
  },
  {
   "cell_type": "code",
   "execution_count": 16,
   "id": "4cc4263f",
   "metadata": {},
   "outputs": [],
   "source": [
    "LE0 = (smp.diff(L, the0) - smp.diff(smp.diff(L, the0_d), t).expand()).factor(the0_dd, the1_dd, the2_dd)\n",
    "LE1 = (smp.diff(L, the1) - smp.diff(smp.diff(L, the1_d), t).expand()).factor(the0_dd, the1_dd, the2_dd)\n",
    "LE2 = (smp.diff(L, the2) - smp.diff(smp.diff(L, the2_d), t).expand()).factor(the0_dd, the1_dd, the2_dd)"
   ]
  },
  {
   "cell_type": "markdown",
   "id": "7b683337",
   "metadata": {},
   "source": [
    "Now, trying to simplify the whole symbolic equation derivation..."
   ]
  },
  {
   "cell_type": "code",
   "execution_count": 17,
   "id": "ae3ff5f9",
   "metadata": {
    "scrolled": false
   },
   "outputs": [
    {
     "data": {
      "text/latex": [
       "$\\displaystyle \\frac{1.0 L_{1} m_{1} \\sin{\\left(\\theta_{1}{\\left(t \\right)} \\right)} \\left(\\frac{d}{d t} \\theta_{1}{\\left(t \\right)}\\right)^{2} + 2 L_{1} m_{2} \\sin{\\left(\\theta_{1}{\\left(t \\right)} \\right)} \\left(\\frac{d}{d t} \\theta_{1}{\\left(t \\right)}\\right)^{2} + L_{2} m_{2} \\sin{\\left(\\theta_{2}{\\left(t \\right)} \\right)} \\left(\\frac{d}{d t} \\theta_{2}{\\left(t \\right)}\\right)^{2} - L_{2} m_{2} \\cos{\\left(\\theta_{2}{\\left(t \\right)} \\right)} \\frac{d^{2}}{d t^{2}} \\theta_{2}{\\left(t \\right)} + \\left(- 1.0 L_{1} m_{1} \\cos{\\left(\\theta_{1}{\\left(t \\right)} \\right)} - 2 L_{1} m_{2} \\cos{\\left(\\theta_{1}{\\left(t \\right)} \\right)}\\right) \\frac{d^{2}}{d t^{2}} \\theta_{1}{\\left(t \\right)} + \\left(- 2.0 m_{0} - 2.0 m_{1} - 2.0 m_{2}\\right) \\frac{d^{2}}{d t^{2}} \\theta_{0}{\\left(t \\right)}}{2}$"
      ],
      "text/plain": [
       "(1.0*L1*m1*sin(\\theta_1(t))*Derivative(\\theta_1(t), t)**2 + 2*L1*m2*sin(\\theta_1(t))*Derivative(\\theta_1(t), t)**2 + L2*m2*sin(\\theta_2(t))*Derivative(\\theta_2(t), t)**2 - L2*m2*cos(\\theta_2(t))*Derivative(\\theta_2(t), (t, 2)) + (-1.0*L1*m1*cos(\\theta_1(t)) - 2*L1*m2*cos(\\theta_1(t)))*Derivative(\\theta_1(t), (t, 2)) + (-2.0*m0 - 2.0*m1 - 2.0*m2)*Derivative(\\theta_0(t), (t, 2)))/2"
      ]
     },
     "execution_count": 17,
     "metadata": {},
     "output_type": "execute_result"
    }
   ],
   "source": [
    "LE0"
   ]
  },
  {
   "cell_type": "code",
   "execution_count": 37,
   "id": "66b587ae",
   "metadata": {},
   "outputs": [],
   "source": [
    "a, b, c, d = smp.symbols('a, b, c, d')\n",
    "LE0 = a - b*the0_dd - c*the1_dd - d*the2_dd"
   ]
  },
  {
   "cell_type": "code",
   "execution_count": 38,
   "id": "82e77dd6",
   "metadata": {},
   "outputs": [
    {
     "data": {
      "text/latex": [
       "$\\displaystyle a - b \\frac{d^{2}}{d t^{2}} \\theta_{0}{\\left(t \\right)} - c \\frac{d^{2}}{d t^{2}} \\theta_{1}{\\left(t \\right)} - d \\frac{d^{2}}{d t^{2}} \\theta_{2}{\\left(t \\right)}$"
      ],
      "text/plain": [
       "a - b*Derivative(\\theta_0(t), (t, 2)) - c*Derivative(\\theta_1(t), (t, 2)) - d*Derivative(\\theta_2(t), (t, 2))"
      ]
     },
     "execution_count": 38,
     "metadata": {},
     "output_type": "execute_result"
    }
   ],
   "source": [
    "LE0"
   ]
  },
  {
   "cell_type": "raw",
   "id": "511e38e4",
   "metadata": {},
   "source": [
    "LE0 #simplified"
   ]
  },
  {
   "cell_type": "code",
   "execution_count": 18,
   "id": "9c9a14f0",
   "metadata": {
    "scrolled": false
   },
   "outputs": [
    {
     "data": {
      "text/latex": [
       "$\\displaystyle \\frac{L_{1} \\left(- L_{2} m_{2} \\sin{\\left(\\theta_{1}{\\left(t \\right)} - \\theta_{2}{\\left(t \\right)} \\right)} \\left(\\frac{d}{d t} \\theta_{2}{\\left(t \\right)}\\right)^{2} - L_{2} m_{2} \\cos{\\left(\\theta_{1}{\\left(t \\right)} - \\theta_{2}{\\left(t \\right)} \\right)} \\frac{d^{2}}{d t^{2}} \\theta_{2}{\\left(t \\right)} + g m_{1} \\sin{\\left(\\theta_{1}{\\left(t \\right)} \\right)} + 2 g m_{2} \\sin{\\left(\\theta_{1}{\\left(t \\right)} \\right)} + \\left(- 1.0 m_{1} \\cos{\\left(\\theta_{1}{\\left(t \\right)} \\right)} - 2 m_{2} \\cos{\\left(\\theta_{1}{\\left(t \\right)} \\right)}\\right) \\frac{d^{2}}{d t^{2}} \\theta_{0}{\\left(t \\right)} + \\left(- 0.5 L_{1} m_{1} \\sin^{2}{\\left(\\theta_{1}{\\left(t \\right)} \\right)} - 0.5 L_{1} m_{1} \\cos^{2}{\\left(\\theta_{1}{\\left(t \\right)} \\right)} - 0.166666666666667 L_{1} m_{1} - 2.0 L_{1} m_{2}\\right) \\frac{d^{2}}{d t^{2}} \\theta_{1}{\\left(t \\right)}\\right)}{2}$"
      ],
      "text/plain": [
       "L1*(-L2*m2*sin(\\theta_1(t) - \\theta_2(t))*Derivative(\\theta_2(t), t)**2 - L2*m2*cos(\\theta_1(t) - \\theta_2(t))*Derivative(\\theta_2(t), (t, 2)) + g*m1*sin(\\theta_1(t)) + 2*g*m2*sin(\\theta_1(t)) + (-1.0*m1*cos(\\theta_1(t)) - 2*m2*cos(\\theta_1(t)))*Derivative(\\theta_0(t), (t, 2)) + (-0.5*L1*m1*sin(\\theta_1(t))**2 - 0.5*L1*m1*cos(\\theta_1(t))**2 - 0.166666666666667*L1*m1 - 2.0*L1*m2)*Derivative(\\theta_1(t), (t, 2)))/2"
      ]
     },
     "execution_count": 18,
     "metadata": {},
     "output_type": "execute_result"
    }
   ],
   "source": [
    "LE1"
   ]
  },
  {
   "cell_type": "code",
   "execution_count": 30,
   "id": "4bf265cf",
   "metadata": {},
   "outputs": [],
   "source": [
    "e, f, g, h = smp.symbols('e, f, g, h')\n",
    "LE1 = e - f*smp.diff(the0, t, 2) + g*smp.diff(the1, t, 2) - h*smp.diff(the2, t, 2)"
   ]
  },
  {
   "cell_type": "code",
   "execution_count": 33,
   "id": "3c32d0b5",
   "metadata": {},
   "outputs": [
    {
     "data": {
      "text/latex": [
       "$\\displaystyle e - f \\frac{d^{2}}{d t^{2}} \\theta_{0}{\\left(t \\right)} + g \\frac{d^{2}}{d t^{2}} \\theta_{1}{\\left(t \\right)} - h \\frac{d^{2}}{d t^{2}} \\theta_{2}{\\left(t \\right)}$"
      ],
      "text/plain": [
       "e - f*Derivative(\\theta_0(t), (t, 2)) + g*Derivative(\\theta_1(t), (t, 2)) - h*Derivative(\\theta_2(t), (t, 2))"
      ]
     },
     "execution_count": 33,
     "metadata": {},
     "output_type": "execute_result"
    }
   ],
   "source": [
    "LE1"
   ]
  },
  {
   "cell_type": "code",
   "execution_count": 20,
   "id": "d61e4c0b",
   "metadata": {
    "scrolled": true
   },
   "outputs": [
    {
     "data": {
      "text/latex": [
       "$\\displaystyle - \\frac{L_{1} L_{2} m_{2} \\sin{\\left(\\theta_{1}{\\left(t \\right)} - \\theta_{2}{\\left(t \\right)} \\right)} \\frac{d}{d t} \\theta_{1}{\\left(t \\right)} \\frac{d}{d t} \\theta_{2}{\\left(t \\right)}}{2} + \\frac{L_{1} g m_{1} \\sin{\\left(\\theta_{1}{\\left(t \\right)} \\right)}}{2} + L_{1} g m_{2} \\sin{\\left(\\theta_{1}{\\left(t \\right)} \\right)} - L_{1} m_{2} \\sin{\\left(\\theta_{1}{\\left(t \\right)} \\right)} \\frac{d}{d t} \\theta_{0}{\\left(t \\right)} \\frac{d}{d t} \\theta_{1}{\\left(t \\right)} - L_{1} \\cdot \\left(0.333333333333333 L_{1} m_{1} \\frac{d^{2}}{d t^{2}} \\theta_{1}{\\left(t \\right)} + 1.0 L_{1} m_{2} \\frac{d^{2}}{d t^{2}} \\theta_{1}{\\left(t \\right)} - 0.5 L_{2} m_{2} \\sin{\\left(\\theta_{1}{\\left(t \\right)} - \\theta_{2}{\\left(t \\right)} \\right)} \\frac{d}{d t} \\theta_{1}{\\left(t \\right)} \\frac{d}{d t} \\theta_{2}{\\left(t \\right)} + 0.5 L_{2} m_{2} \\sin{\\left(\\theta_{1}{\\left(t \\right)} - \\theta_{2}{\\left(t \\right)} \\right)} \\left(\\frac{d}{d t} \\theta_{2}{\\left(t \\right)}\\right)^{2} + 0.5 L_{2} m_{2} \\cos{\\left(\\theta_{1}{\\left(t \\right)} - \\theta_{2}{\\left(t \\right)} \\right)} \\frac{d^{2}}{d t^{2}} \\theta_{2}{\\left(t \\right)} - 0.5 m_{1} \\sin{\\left(\\theta_{1}{\\left(t \\right)} \\right)} \\frac{d}{d t} \\theta_{0}{\\left(t \\right)} \\frac{d}{d t} \\theta_{1}{\\left(t \\right)} + 0.5 m_{1} \\cos{\\left(\\theta_{1}{\\left(t \\right)} \\right)} \\frac{d^{2}}{d t^{2}} \\theta_{0}{\\left(t \\right)} - 1.0 m_{2} \\sin{\\left(\\theta_{1}{\\left(t \\right)} \\right)} \\frac{d}{d t} \\theta_{0}{\\left(t \\right)} \\frac{d}{d t} \\theta_{1}{\\left(t \\right)} + 1.0 m_{2} \\cos{\\left(\\theta_{1}{\\left(t \\right)} \\right)} \\frac{d^{2}}{d t^{2}} \\theta_{0}{\\left(t \\right)}\\right) + 0.5 m_{1} \\left(\\frac{L_{1}^{2} \\sin{\\left(\\theta_{1}{\\left(t \\right)} \\right)} \\cos{\\left(\\theta_{1}{\\left(t \\right)} \\right)} \\left(\\frac{d}{d t} \\theta_{1}{\\left(t \\right)}\\right)^{2}}{2} - L_{1} \\left(\\frac{L_{1} \\cos{\\left(\\theta_{1}{\\left(t \\right)} \\right)} \\frac{d}{d t} \\theta_{1}{\\left(t \\right)}}{2} + \\frac{d}{d t} \\theta_{0}{\\left(t \\right)}\\right) \\sin{\\left(\\theta_{1}{\\left(t \\right)} \\right)} \\frac{d}{d t} \\theta_{1}{\\left(t \\right)}\\right)$"
      ],
      "text/plain": [
       "-L1*L2*m2*sin(\\theta_1(t) - \\theta_2(t))*Derivative(\\theta_1(t), t)*Derivative(\\theta_2(t), t)/2 + L1*g*m1*sin(\\theta_1(t))/2 + L1*g*m2*sin(\\theta_1(t)) - L1*m2*sin(\\theta_1(t))*Derivative(\\theta_0(t), t)*Derivative(\\theta_1(t), t) - L1*(0.333333333333333*L1*m1*Derivative(\\theta_1(t), (t, 2)) + 1.0*L1*m2*Derivative(\\theta_1(t), (t, 2)) - 0.5*L2*m2*sin(\\theta_1(t) - \\theta_2(t))*Derivative(\\theta_1(t), t)*Derivative(\\theta_2(t), t) + 0.5*L2*m2*sin(\\theta_1(t) - \\theta_2(t))*Derivative(\\theta_2(t), t)**2 + 0.5*L2*m2*cos(\\theta_1(t) - \\theta_2(t))*Derivative(\\theta_2(t), (t, 2)) - 0.5*m1*sin(\\theta_1(t))*Derivative(\\theta_0(t), t)*Derivative(\\theta_1(t), t) + 0.5*m1*cos(\\theta_1(t))*Derivative(\\theta_0(t), (t, 2)) - 1.0*m2*sin(\\theta_1(t))*Derivative(\\theta_0(t), t)*Derivative(\\theta_1(t), t) + 1.0*m2*cos(\\theta_1(t))*Derivative(\\theta_0(t), (t, 2))) + 0.5*m1*(L1**2*sin(\\theta_1(t))*cos(\\theta_1(t))*Derivative(\\theta_1(t), t)**2/2 - L1*(L1*cos(\\theta_1(t))*Derivative(\\theta_1(t), t)/2 + Derivative(\\theta_0(t), t))*sin(\\theta_1(t))*Derivative(\\theta_1(t), t))"
      ]
     },
     "execution_count": 20,
     "metadata": {},
     "output_type": "execute_result"
    }
   ],
   "source": [
    "LE1 # simplified"
   ]
  },
  {
   "cell_type": "code",
   "execution_count": 19,
   "id": "ef5718b8",
   "metadata": {
    "scrolled": true
   },
   "outputs": [
    {
     "data": {
      "text/latex": [
       "$\\displaystyle \\frac{L_{2} m_{2} \\left(L_{1} \\sin{\\left(\\theta_{1}{\\left(t \\right)} - \\theta_{2}{\\left(t \\right)} \\right)} \\left(\\frac{d}{d t} \\theta_{1}{\\left(t \\right)}\\right)^{2} - L_{1} \\cos{\\left(\\theta_{1}{\\left(t \\right)} - \\theta_{2}{\\left(t \\right)} \\right)} \\frac{d^{2}}{d t^{2}} \\theta_{1}{\\left(t \\right)} - 0.666666666666667 L_{2} \\frac{d^{2}}{d t^{2}} \\theta_{2}{\\left(t \\right)} + g \\sin{\\left(\\theta_{2}{\\left(t \\right)} \\right)} - \\cos{\\left(\\theta_{2}{\\left(t \\right)} \\right)} \\frac{d^{2}}{d t^{2}} \\theta_{0}{\\left(t \\right)}\\right)}{2}$"
      ],
      "text/plain": [
       "L2*m2*(L1*sin(\\theta_1(t) - \\theta_2(t))*Derivative(\\theta_1(t), t)**2 - L1*cos(\\theta_1(t) - \\theta_2(t))*Derivative(\\theta_1(t), (t, 2)) - 0.666666666666667*L2*Derivative(\\theta_2(t), (t, 2)) + g*sin(\\theta_2(t)) - cos(\\theta_2(t))*Derivative(\\theta_0(t), (t, 2)))/2"
      ]
     },
     "execution_count": 19,
     "metadata": {},
     "output_type": "execute_result"
    }
   ],
   "source": [
    "LE2"
   ]
  },
  {
   "cell_type": "code",
   "execution_count": 29,
   "id": "688ace16",
   "metadata": {},
   "outputs": [],
   "source": [
    "i, j, k, l = smp.symbols('i, j, k, l')\n",
    "LE2 = i - j*smp.diff(the0, t, 2) - k*smp.diff(the1, t, 2) - l*smp.diff(the2, t, 2)"
   ]
  },
  {
   "cell_type": "code",
   "execution_count": 34,
   "id": "a62eb34b",
   "metadata": {},
   "outputs": [
    {
     "data": {
      "text/latex": [
       "$\\displaystyle i - j \\frac{d^{2}}{d t^{2}} \\theta_{0}{\\left(t \\right)} - k \\frac{d^{2}}{d t^{2}} \\theta_{1}{\\left(t \\right)} - l \\frac{d^{2}}{d t^{2}} \\theta_{2}{\\left(t \\right)}$"
      ],
      "text/plain": [
       "i - j*Derivative(\\theta_0(t), (t, 2)) - k*Derivative(\\theta_1(t), (t, 2)) - l*Derivative(\\theta_2(t), (t, 2))"
      ]
     },
     "execution_count": 34,
     "metadata": {},
     "output_type": "execute_result"
    }
   ],
   "source": [
    "LE2"
   ]
  },
  {
   "cell_type": "code",
   "execution_count": 22,
   "id": "21e74047",
   "metadata": {
    "scrolled": false
   },
   "outputs": [
    {
     "data": {
      "text/latex": [
       "$\\displaystyle \\frac{L_{1} L_{2} m_{2} \\sin{\\left(\\theta_{1}{\\left(t \\right)} - \\theta_{2}{\\left(t \\right)} \\right)} \\frac{d}{d t} \\theta_{1}{\\left(t \\right)} \\frac{d}{d t} \\theta_{2}{\\left(t \\right)}}{2} + \\frac{L_{2} g m_{2} \\sin{\\left(\\theta_{2}{\\left(t \\right)} \\right)}}{2} - \\frac{L_{2} m_{2} \\left(- L_{1} \\left(\\frac{d}{d t} \\theta_{1}{\\left(t \\right)} - \\frac{d}{d t} \\theta_{2}{\\left(t \\right)}\\right) \\sin{\\left(\\theta_{1}{\\left(t \\right)} - \\theta_{2}{\\left(t \\right)} \\right)} \\frac{d}{d t} \\theta_{1}{\\left(t \\right)} + L_{1} \\cos{\\left(\\theta_{1}{\\left(t \\right)} - \\theta_{2}{\\left(t \\right)} \\right)} \\frac{d^{2}}{d t^{2}} \\theta_{1}{\\left(t \\right)} + 0.666666666666667 L_{2} \\frac{d^{2}}{d t^{2}} \\theta_{2}{\\left(t \\right)} - \\sin{\\left(\\theta_{2}{\\left(t \\right)} \\right)} \\frac{d}{d t} \\theta_{0}{\\left(t \\right)} \\frac{d}{d t} \\theta_{2}{\\left(t \\right)} + \\cos{\\left(\\theta_{2}{\\left(t \\right)} \\right)} \\frac{d^{2}}{d t^{2}} \\theta_{0}{\\left(t \\right)}\\right)}{2} - \\frac{L_{2} m_{2} \\sin{\\left(\\theta_{2}{\\left(t \\right)} \\right)} \\frac{d}{d t} \\theta_{0}{\\left(t \\right)} \\frac{d}{d t} \\theta_{2}{\\left(t \\right)}}{2}$"
      ],
      "text/plain": [
       "L1*L2*m2*sin(\\theta_1(t) - \\theta_2(t))*Derivative(\\theta_1(t), t)*Derivative(\\theta_2(t), t)/2 + L2*g*m2*sin(\\theta_2(t))/2 - L2*m2*(-L1*(Derivative(\\theta_1(t), t) - Derivative(\\theta_2(t), t))*sin(\\theta_1(t) - \\theta_2(t))*Derivative(\\theta_1(t), t) + L1*cos(\\theta_1(t) - \\theta_2(t))*Derivative(\\theta_1(t), (t, 2)) + 0.666666666666667*L2*Derivative(\\theta_2(t), (t, 2)) - sin(\\theta_2(t))*Derivative(\\theta_0(t), t)*Derivative(\\theta_2(t), t) + cos(\\theta_2(t))*Derivative(\\theta_0(t), (t, 2)))/2 - L2*m2*sin(\\theta_2(t))*Derivative(\\theta_0(t), t)*Derivative(\\theta_2(t), t)/2"
      ]
     },
     "execution_count": 22,
     "metadata": {},
     "output_type": "execute_result"
    }
   ],
   "source": [
    "LE2 #simplified"
   ]
  },
  {
   "cell_type": "markdown",
   "id": "2a64b9e1",
   "metadata": {},
   "source": [
    "Now expressing the above equations as $\\ddot{\\theta_i}=\\cdots$"
   ]
  },
  {
   "cell_type": "code",
   "execution_count": null,
   "id": "a439c186",
   "metadata": {},
   "outputs": [],
   "source": [
    "sols = smp.linsolve([LE0, LE1, LE2], (the0_dd, the1_dd, the2_dd))"
   ]
  },
  {
   "cell_type": "code",
   "execution_count": null,
   "id": "28cbe6f4",
   "metadata": {},
   "outputs": [],
   "source": [
    "sols = smp.solve([LE0, LE1, LE2], (the0_dd, the1_dd, the2_dd), simplify=False, rational=False)"
   ]
  },
  {
   "cell_type": "markdown",
   "id": "7b566cad",
   "metadata": {},
   "source": [
    "The \"**odeint**\" solver requires that the maximum order of the differential equation is 1. \n",
    "\n",
    "Hence, we define the following as functions that take inputs:"
   ]
  },
  {
   "cell_type": "markdown",
   "id": "073b4c9c",
   "metadata": {},
   "source": [
    "<center> $z_i=\\dot{\\theta_i}$ </center>\n",
    "\n",
    "<center> $\\dot{z_i}=\\ddot{\\theta_i}$ </center>"
   ]
  },
  {
   "cell_type": "code",
   "execution_count": 40,
   "id": "d7133f27",
   "metadata": {},
   "outputs": [],
   "source": [
    "# Here, note that the lambdify is the one that converts the symbolic expressions into numerical functions.\n",
    "\n",
    "dz1dt_f = smp.lambdify((t,g,m1,m2,L1,L2,the1,the2,the1_d,the2_d), sols[the1_dd])\n",
    "dz2dt_f = smp.lambdify((t,g,m1,m2,L1,L2,the1,the2,the1_d,the2_d), sols[the2_dd])\n",
    "dthe1dt_f = smp.lambdify(the1_d, the1_d)\n",
    "dthe2dt_f = smp.lambdify(the2_d, the2_d)"
   ]
  },
  {
   "cell_type": "markdown",
   "id": "277864e9",
   "metadata": {},
   "source": [
    "Moreover, the \"**odeint**\" solver also requires that we compress the initial conditions $(\\theta_i,z_i)$ into a single quantity $\\vec{S}$. This enables the solver to compute $\\frac{d\\vec{S}}{dt}$"
   ]
  },
  {
   "cell_type": "code",
   "execution_count": 44,
   "id": "e0fa99c5",
   "metadata": {},
   "outputs": [],
   "source": [
    "def dSdt(S, t, g, m1, m2, L1, L2):\n",
    "    the1, z1, the2, z2 = S\n",
    "    return [\n",
    "        dthe1dt_f(z1),\n",
    "        dz1dt_f(t, g, m1, m2, L1, L2, the1, the2, z1, z2),\n",
    "        dthe2dt_f(z2),\n",
    "        dz2dt_f(t, g, m1, m2, L1, L2, the1, the2, z1, z2),\n",
    "    ]"
   ]
  },
  {
   "cell_type": "markdown",
   "id": "c3df7aa3",
   "metadata": {},
   "source": [
    "Now defining initial conditions:  "
   ]
  },
  {
   "cell_type": "code",
   "execution_count": null,
   "id": "8a301797",
   "metadata": {},
   "outputs": [],
   "source": [
    "t = np.linspace(0, 40, 1001)  # 1000/40 = 25 calculations per second\n",
    "g = 9.81\n",
    "m1= 1\n",
    "m2= 1\n",
    "L1 = 1.3\n",
    "L2 = 1.3"
   ]
  },
  {
   "cell_type": "markdown",
   "id": "2ca2d4cc",
   "metadata": {},
   "source": [
    "Using the \"**odeint**\" solver:"
   ]
  },
  {
   "cell_type": "markdown",
   "id": "4680e937",
   "metadata": {},
   "source": [
    "Here, y0=[a, b, c, d], where a and c are $\\theta_i$ values and b and d are $\\dot{\\theta_i}$ values"
   ]
  },
  {
   "cell_type": "code",
   "execution_count": null,
   "id": "0bfab14c",
   "metadata": {},
   "outputs": [],
   "source": [
    "ans = odeint(dSdt, y0=[0.1, -3, -0.1, 5], t=t, args=(g,m1,m2,L1,L2))"
   ]
  },
  {
   "cell_type": "markdown",
   "id": "624e41a4",
   "metadata": {},
   "source": [
    "Each row in the \"**ans**\" matrix yields the $(\\theta_1,\\dot{\\theta_1},\\theta_2,\\dot{\\theta_2})$ state at time $t$"
   ]
  },
  {
   "cell_type": "code",
   "execution_count": null,
   "id": "3a2870aa",
   "metadata": {},
   "outputs": [],
   "source": [
    "ans"
   ]
  },
  {
   "cell_type": "markdown",
   "id": "51653ed1",
   "metadata": {},
   "source": [
    "Upon **transposing**, we obtain a matrix of 4 rows corresponding to the values of each variable mentioned above."
   ]
  },
  {
   "cell_type": "code",
   "execution_count": 51,
   "id": "b4908b2b",
   "metadata": {},
   "outputs": [
    {
     "data": {
      "text/plain": [
       "array([[  1.        ,   0.87413906,   0.73333306, ...,  -0.88616579,\n",
       "         -0.70444762,  -0.52275734],\n",
       "       [ -3.        ,  -3.31025173,  -3.75998052, ...,   4.19459676,\n",
       "          4.73165892,   4.24973584],\n",
       "       [ -1.        ,  -0.78277685,  -0.52139856, ...,  12.25096793,\n",
       "         11.77817817,  11.32116145],\n",
       "       [  5.        ,   5.91440903,   7.24155048, ..., -11.00398717,\n",
       "        -12.17998297, -10.37241422]])"
      ]
     },
     "execution_count": 51,
     "metadata": {},
     "output_type": "execute_result"
    }
   ],
   "source": [
    "ans.T"
   ]
  },
  {
   "cell_type": "code",
   "execution_count": 52,
   "id": "fa52f478",
   "metadata": {},
   "outputs": [],
   "source": [
    "the1 = ans.T[0]\n",
    "the2 = ans.T[2]"
   ]
  },
  {
   "cell_type": "code",
   "execution_count": 58,
   "id": "4482378f",
   "metadata": {},
   "outputs": [
    {
     "data": {
      "text/plain": [
       "[<matplotlib.lines.Line2D at 0x212c21a82b0>]"
      ]
     },
     "execution_count": 58,
     "metadata": {},
     "output_type": "execute_result"
    },
    {
     "data": {
      "image/png": "[encoded data removed]",
      "text/plain": [
       "<Figure size 640x480 with 1 Axes>"
      ]
     },
     "metadata": {},
     "output_type": "display_data"
    }
   ],
   "source": [
    "plt.plot(the1, the2)"
   ]
  },
  {
   "cell_type": "markdown",
   "id": "eefd3a04",
   "metadata": {},
   "source": [
    "Having the above data, it is possible to track the location of the pendulums using what we used in **In [18]**"
   ]
  },
  {
   "cell_type": "code",
   "execution_count": 60,
   "id": "98729ed7",
   "metadata": {},
   "outputs": [],
   "source": [
    "def xy_coords(t, the1, the2, L1, L2):\n",
    "    return (L1*np.sin(the1),\n",
    "            -L1*np.cos(the1),\n",
    "            L1*np.sin(the1) + L2*np.sin(the2),\n",
    "            -L1*np.cos(the1) - L2*np.cos(the2))\n",
    "\n",
    "x1, y1, x2, y2 = xy_coords(t, ans.T[0], ans.T[2], L1, L2)"
   ]
  },
  {
   "cell_type": "markdown",
   "id": "e194e3fb",
   "metadata": {},
   "source": [
    "## Animating"
   ]
  },
  {
   "cell_type": "code",
   "execution_count": null,
   "id": "ae7329b0",
   "metadata": {},
   "outputs": [],
   "source": [
    "def animate(i):\n",
    "    ln1.set_data([0, x1[i], x2[i]], [0, y1[i], y2[i]])\n",
    "    \n",
    "fig, ax = plt.subplots(1,1, figsize=(8,8))\n",
    "ax.set_facecolor('k')\n",
    "# ax.get_xaxis().set_ticks([])   \n",
    "# ax.get_yaxis().set_ticks([])    \n",
    "ln1, = plt.plot([], [], 'ro--', lw=3, markersize=8)\n",
    "ax.set_ylim(-4,4)\n",
    "ax.set_xlim(-4,4)\n",
    "ani = animation.FuncAnimration(fig, animate, frames=1000, interval=50)\n",
    "ani.save('swing.gif',writer='pillow',fps=25)"
   ]
  },
  {
   "cell_type": "code",
   "execution_count": null,
   "id": "cee4494d",
   "metadata": {},
   "outputs": [],
   "source": []
  }
 ],
 "metadata": {
  "kernelspec": {
   "display_name": "Python 3 (ipykernel)",
   "language": "python",
   "name": "python3"
  },
  "language_info": {
   "codemirror_mode": {
    "name": "ipython",
    "version": 3
   },
   "file_extension": ".py",
   "mimetype": "text/x-python",
   "name": "python",
   "nbconvert_exporter": "python",
   "pygments_lexer": "ipython3",
   "version": "3.9.12"
  }
 },
 "nbformat": 4,
 "nbformat_minor": 5
}
